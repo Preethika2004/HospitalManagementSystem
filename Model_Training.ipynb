{
  "cells": [
    {
      "cell_type": "markdown",
      "metadata": {
        "id": "LT0qlFIwZhBr"
      },
      "source": [
        "# IMPORTING REQUIRED LIBRARIES"
      ]
    },
    {
      "cell_type": "code",
      "execution_count": 1,
      "metadata": {},
      "outputs": [],
      "source": [
        "#  ! pip install openpyxl\n",
        "#  ! pip install matplotlib\n",
        "#  ! pip install sklearn\n",
        "#  ! pip install seaborn\n",
        "#  ! pip install xgboost\n",
        "#  ! pip install flask"
      ]
    },
    {
      "cell_type": "code",
      "execution_count": 2,
      "metadata": {
        "id": "cNiQvlZU9GHa"
      },
      "outputs": [],
      "source": [
        "import pandas as pd\n",
        "import numpy as np\n",
        "import matplotlib.pyplot as plt\n",
        "import seaborn as sns\n",
        "\n",
        "from sklearn.model_selection import train_test_split\n",
        "from sklearn.linear_model import LogisticRegression\n",
        "from sklearn.neighbors import KNeighborsClassifier\n",
        "from xgboost import XGBClassifier\n",
        "from sklearn.ensemble import RandomForestClassifier\n",
        "\n",
        "from sklearn.preprocessing import LabelEncoder\n",
        "from sklearn.metrics import classification_report, accuracy_score"
      ]
    },
    {
      "cell_type": "markdown",
      "metadata": {
        "id": "chctuMwnAmTt"
      },
      "source": [
        "# DATA LOADING\n"
      ]
    },
    {
      "cell_type": "code",
      "execution_count": 3,
      "metadata": {
        "id": "nuz9TgJ-97qt"
      },
      "outputs": [],
      "source": [
        "df = pd.read_excel(\"Village_Health_data.xlsx\")"
      ]
    },
    {
      "cell_type": "code",
      "execution_count": 4,
      "metadata": {
        "colab": {
          "base_uri": "https://localhost:8080/",
          "height": 496
        },
        "id": "CmxxN8nHn_2U",
        "outputId": "339a8e8c-0c00-4391-e41d-7a947d576a2b"
      },
      "outputs": [
        {
          "data": {
            "text/html": [
              "<div>\n",
              "<style scoped>\n",
              "    .dataframe tbody tr th:only-of-type {\n",
              "        vertical-align: middle;\n",
              "    }\n",
              "\n",
              "    .dataframe tbody tr th {\n",
              "        vertical-align: top;\n",
              "    }\n",
              "\n",
              "    .dataframe thead th {\n",
              "        text-align: right;\n",
              "    }\n",
              "</style>\n",
              "<table border=\"1\" class=\"dataframe\">\n",
              "  <thead>\n",
              "    <tr style=\"text-align: right;\">\n",
              "      <th></th>\n",
              "      <th>Name</th>\n",
              "      <th>Age</th>\n",
              "      <th>Gender</th>\n",
              "      <th>Locality</th>\n",
              "      <th>Phone_No</th>\n",
              "      <th>Fever</th>\n",
              "      <th>Cough</th>\n",
              "      <th>Cold</th>\n",
              "      <th>Chest_Pain</th>\n",
              "      <th>Breathlessness</th>\n",
              "      <th>...</th>\n",
              "      <th>Ear_Pain</th>\n",
              "      <th>Eye_Irritation</th>\n",
              "      <th>Joint_Pain</th>\n",
              "      <th>Fatigue</th>\n",
              "      <th>Dizziness</th>\n",
              "      <th>Diabetes</th>\n",
              "      <th>B.P</th>\n",
              "      <th>Disease</th>\n",
              "      <th>Emergency</th>\n",
              "      <th>Hospital type</th>\n",
              "    </tr>\n",
              "  </thead>\n",
              "  <tbody>\n",
              "    <tr>\n",
              "      <th>0</th>\n",
              "      <td>Person_160</td>\n",
              "      <td>0</td>\n",
              "      <td>Female</td>\n",
              "      <td>Locality_1</td>\n",
              "      <td>7252933834</td>\n",
              "      <td>0</td>\n",
              "      <td>0</td>\n",
              "      <td>0</td>\n",
              "      <td>0</td>\n",
              "      <td>0</td>\n",
              "      <td>...</td>\n",
              "      <td>0</td>\n",
              "      <td>0</td>\n",
              "      <td>0</td>\n",
              "      <td>1</td>\n",
              "      <td>0</td>\n",
              "      <td>0</td>\n",
              "      <td>0</td>\n",
              "      <td>Urology</td>\n",
              "      <td>0</td>\n",
              "      <td>Urology</td>\n",
              "    </tr>\n",
              "    <tr>\n",
              "      <th>1</th>\n",
              "      <td>Person_229</td>\n",
              "      <td>0</td>\n",
              "      <td>Female</td>\n",
              "      <td>Locality_1</td>\n",
              "      <td>9753374829</td>\n",
              "      <td>0</td>\n",
              "      <td>0</td>\n",
              "      <td>0</td>\n",
              "      <td>0</td>\n",
              "      <td>0</td>\n",
              "      <td>...</td>\n",
              "      <td>0</td>\n",
              "      <td>0</td>\n",
              "      <td>0</td>\n",
              "      <td>0</td>\n",
              "      <td>0</td>\n",
              "      <td>0</td>\n",
              "      <td>0</td>\n",
              "      <td>Neuro</td>\n",
              "      <td>0</td>\n",
              "      <td>Neuro Surgery</td>\n",
              "    </tr>\n",
              "    <tr>\n",
              "      <th>2</th>\n",
              "      <td>Person_230</td>\n",
              "      <td>0</td>\n",
              "      <td>Female</td>\n",
              "      <td>Locality_3</td>\n",
              "      <td>7189643766</td>\n",
              "      <td>0</td>\n",
              "      <td>0</td>\n",
              "      <td>0</td>\n",
              "      <td>0</td>\n",
              "      <td>0</td>\n",
              "      <td>...</td>\n",
              "      <td>0</td>\n",
              "      <td>0</td>\n",
              "      <td>0</td>\n",
              "      <td>0</td>\n",
              "      <td>0</td>\n",
              "      <td>0</td>\n",
              "      <td>0</td>\n",
              "      <td>Dental</td>\n",
              "      <td>0</td>\n",
              "      <td>Dental</td>\n",
              "    </tr>\n",
              "    <tr>\n",
              "      <th>3</th>\n",
              "      <td>Person_254</td>\n",
              "      <td>0</td>\n",
              "      <td>Female</td>\n",
              "      <td>Locality_5</td>\n",
              "      <td>9385920225</td>\n",
              "      <td>0</td>\n",
              "      <td>0</td>\n",
              "      <td>1</td>\n",
              "      <td>0</td>\n",
              "      <td>0</td>\n",
              "      <td>...</td>\n",
              "      <td>0</td>\n",
              "      <td>0</td>\n",
              "      <td>0</td>\n",
              "      <td>0</td>\n",
              "      <td>0</td>\n",
              "      <td>0</td>\n",
              "      <td>0</td>\n",
              "      <td>Pediatrician</td>\n",
              "      <td>0</td>\n",
              "      <td>Pediatrics</td>\n",
              "    </tr>\n",
              "    <tr>\n",
              "      <th>4</th>\n",
              "      <td>Person_283</td>\n",
              "      <td>0</td>\n",
              "      <td>Male</td>\n",
              "      <td>Locality_3</td>\n",
              "      <td>7177701806</td>\n",
              "      <td>1</td>\n",
              "      <td>0</td>\n",
              "      <td>0</td>\n",
              "      <td>0</td>\n",
              "      <td>0</td>\n",
              "      <td>...</td>\n",
              "      <td>0</td>\n",
              "      <td>0</td>\n",
              "      <td>0</td>\n",
              "      <td>0</td>\n",
              "      <td>0</td>\n",
              "      <td>0</td>\n",
              "      <td>0</td>\n",
              "      <td>Gastro</td>\n",
              "      <td>0</td>\n",
              "      <td>General</td>\n",
              "    </tr>\n",
              "    <tr>\n",
              "      <th>...</th>\n",
              "      <td>...</td>\n",
              "      <td>...</td>\n",
              "      <td>...</td>\n",
              "      <td>...</td>\n",
              "      <td>...</td>\n",
              "      <td>...</td>\n",
              "      <td>...</td>\n",
              "      <td>...</td>\n",
              "      <td>...</td>\n",
              "      <td>...</td>\n",
              "      <td>...</td>\n",
              "      <td>...</td>\n",
              "      <td>...</td>\n",
              "      <td>...</td>\n",
              "      <td>...</td>\n",
              "      <td>...</td>\n",
              "      <td>...</td>\n",
              "      <td>...</td>\n",
              "      <td>...</td>\n",
              "      <td>...</td>\n",
              "      <td>...</td>\n",
              "    </tr>\n",
              "    <tr>\n",
              "      <th>995</th>\n",
              "      <td>Person_7</td>\n",
              "      <td>90</td>\n",
              "      <td>Male</td>\n",
              "      <td>Locality_5</td>\n",
              "      <td>8888185250</td>\n",
              "      <td>0</td>\n",
              "      <td>0</td>\n",
              "      <td>0</td>\n",
              "      <td>0</td>\n",
              "      <td>0</td>\n",
              "      <td>...</td>\n",
              "      <td>0</td>\n",
              "      <td>0</td>\n",
              "      <td>0</td>\n",
              "      <td>0</td>\n",
              "      <td>0</td>\n",
              "      <td>0</td>\n",
              "      <td>0</td>\n",
              "      <td>Emergency</td>\n",
              "      <td>1</td>\n",
              "      <td>Multi-speciality</td>\n",
              "    </tr>\n",
              "    <tr>\n",
              "      <th>996</th>\n",
              "      <td>Person_736</td>\n",
              "      <td>90</td>\n",
              "      <td>Female</td>\n",
              "      <td>Locality_1</td>\n",
              "      <td>8925538199</td>\n",
              "      <td>1</td>\n",
              "      <td>0</td>\n",
              "      <td>0</td>\n",
              "      <td>0</td>\n",
              "      <td>0</td>\n",
              "      <td>...</td>\n",
              "      <td>0</td>\n",
              "      <td>0</td>\n",
              "      <td>0</td>\n",
              "      <td>0</td>\n",
              "      <td>0</td>\n",
              "      <td>0</td>\n",
              "      <td>0</td>\n",
              "      <td>Gastro</td>\n",
              "      <td>0</td>\n",
              "      <td>General</td>\n",
              "    </tr>\n",
              "    <tr>\n",
              "      <th>997</th>\n",
              "      <td>Person_811</td>\n",
              "      <td>90</td>\n",
              "      <td>Male</td>\n",
              "      <td>Locality_4</td>\n",
              "      <td>7816264387</td>\n",
              "      <td>0</td>\n",
              "      <td>0</td>\n",
              "      <td>0</td>\n",
              "      <td>0</td>\n",
              "      <td>0</td>\n",
              "      <td>...</td>\n",
              "      <td>0</td>\n",
              "      <td>1</td>\n",
              "      <td>0</td>\n",
              "      <td>1</td>\n",
              "      <td>0</td>\n",
              "      <td>1</td>\n",
              "      <td>0</td>\n",
              "      <td>Eye</td>\n",
              "      <td>0</td>\n",
              "      <td>Eye</td>\n",
              "    </tr>\n",
              "    <tr>\n",
              "      <th>998</th>\n",
              "      <td>Person_832</td>\n",
              "      <td>90</td>\n",
              "      <td>Male</td>\n",
              "      <td>Locality_3</td>\n",
              "      <td>8738110547</td>\n",
              "      <td>0</td>\n",
              "      <td>0</td>\n",
              "      <td>0</td>\n",
              "      <td>0</td>\n",
              "      <td>0</td>\n",
              "      <td>...</td>\n",
              "      <td>0</td>\n",
              "      <td>0</td>\n",
              "      <td>0</td>\n",
              "      <td>0</td>\n",
              "      <td>0</td>\n",
              "      <td>0</td>\n",
              "      <td>0</td>\n",
              "      <td>Gastro</td>\n",
              "      <td>0</td>\n",
              "      <td>General</td>\n",
              "    </tr>\n",
              "    <tr>\n",
              "      <th>999</th>\n",
              "      <td>Person_982</td>\n",
              "      <td>90</td>\n",
              "      <td>Male</td>\n",
              "      <td>Locality_1</td>\n",
              "      <td>7483687864</td>\n",
              "      <td>1</td>\n",
              "      <td>0</td>\n",
              "      <td>0</td>\n",
              "      <td>0</td>\n",
              "      <td>0</td>\n",
              "      <td>...</td>\n",
              "      <td>0</td>\n",
              "      <td>0</td>\n",
              "      <td>0</td>\n",
              "      <td>0</td>\n",
              "      <td>0</td>\n",
              "      <td>0</td>\n",
              "      <td>0</td>\n",
              "      <td>Skin</td>\n",
              "      <td>0</td>\n",
              "      <td>Dermatology</td>\n",
              "    </tr>\n",
              "  </tbody>\n",
              "</table>\n",
              "<p>1000 rows × 25 columns</p>\n",
              "</div>"
            ],
            "text/plain": [
              "           Name  Age  Gender    Locality    Phone_No  Fever  Cough  Cold  \\\n",
              "0    Person_160    0  Female  Locality_1  7252933834      0      0     0   \n",
              "1    Person_229    0  Female  Locality_1  9753374829      0      0     0   \n",
              "2    Person_230    0  Female  Locality_3  7189643766      0      0     0   \n",
              "3    Person_254    0  Female  Locality_5  9385920225      0      0     1   \n",
              "4    Person_283    0    Male  Locality_3  7177701806      1      0     0   \n",
              "..          ...  ...     ...         ...         ...    ...    ...   ...   \n",
              "995    Person_7   90    Male  Locality_5  8888185250      0      0     0   \n",
              "996  Person_736   90  Female  Locality_1  8925538199      1      0     0   \n",
              "997  Person_811   90    Male  Locality_4  7816264387      0      0     0   \n",
              "998  Person_832   90    Male  Locality_3  8738110547      0      0     0   \n",
              "999  Person_982   90    Male  Locality_1  7483687864      1      0     0   \n",
              "\n",
              "     Chest_Pain  Breathlessness  ...  Ear_Pain  Eye_Irritation  Joint_Pain  \\\n",
              "0             0               0  ...         0               0           0   \n",
              "1             0               0  ...         0               0           0   \n",
              "2             0               0  ...         0               0           0   \n",
              "3             0               0  ...         0               0           0   \n",
              "4             0               0  ...         0               0           0   \n",
              "..          ...             ...  ...       ...             ...         ...   \n",
              "995           0               0  ...         0               0           0   \n",
              "996           0               0  ...         0               0           0   \n",
              "997           0               0  ...         0               1           0   \n",
              "998           0               0  ...         0               0           0   \n",
              "999           0               0  ...         0               0           0   \n",
              "\n",
              "     Fatigue  Dizziness  Diabetes  B.P       Disease  Emergency  \\\n",
              "0          1          0         0    0       Urology          0   \n",
              "1          0          0         0    0         Neuro          0   \n",
              "2          0          0         0    0        Dental          0   \n",
              "3          0          0         0    0  Pediatrician          0   \n",
              "4          0          0         0    0        Gastro          0   \n",
              "..       ...        ...       ...  ...           ...        ...   \n",
              "995        0          0         0    0     Emergency          1   \n",
              "996        0          0         0    0        Gastro          0   \n",
              "997        1          0         1    0           Eye          0   \n",
              "998        0          0         0    0        Gastro          0   \n",
              "999        0          0         0    0          Skin          0   \n",
              "\n",
              "        Hospital type  \n",
              "0             Urology  \n",
              "1       Neuro Surgery  \n",
              "2              Dental  \n",
              "3          Pediatrics  \n",
              "4             General  \n",
              "..                ...  \n",
              "995  Multi-speciality  \n",
              "996           General  \n",
              "997               Eye  \n",
              "998           General  \n",
              "999       Dermatology  \n",
              "\n",
              "[1000 rows x 25 columns]"
            ]
          },
          "execution_count": 4,
          "metadata": {},
          "output_type": "execute_result"
        }
      ],
      "source": [
        "df"
      ]
    },
    {
      "cell_type": "markdown",
      "metadata": {
        "id": "XN1BuG3uAyra"
      },
      "source": [
        "# DATA EXPLORATION"
      ]
    },
    {
      "cell_type": "code",
      "execution_count": 5,
      "metadata": {
        "colab": {
          "base_uri": "https://localhost:8080/"
        },
        "id": "Jr8v_dgaZ6sh",
        "outputId": "ca6f98d8-64cd-4957-e29e-27ee46e4ec5a"
      },
      "outputs": [
        {
          "name": "stdout",
          "output_type": "stream",
          "text": [
            "Shape of the dataset: (1000, 25)\n",
            "\n",
            "Data types:\n",
            " Name              object\n",
            "Age                int64\n",
            "Gender            object\n",
            "Locality          object\n",
            "Phone_No           int64\n",
            "Fever              int64\n",
            "Cough              int64\n",
            "Cold               int64\n",
            "Chest_Pain         int64\n",
            "Breathlessness     int64\n",
            "Headache           int64\n",
            "Stomach_Pain       int64\n",
            "Vomiting           int64\n",
            "Rash               int64\n",
            "Tooth_Pain         int64\n",
            "Ear_Pain           int64\n",
            "Eye_Irritation     int64\n",
            "Joint_Pain         int64\n",
            "Fatigue            int64\n",
            "Dizziness          int64\n",
            "Diabetes           int64\n",
            "B.P                int64\n",
            "Disease           object\n",
            "Emergency          int64\n",
            "Hospital type     object\n",
            "dtype: object\n"
          ]
        }
      ],
      "source": [
        "# 1. Overview of the dataset\n",
        "print(\"Shape of the dataset:\", df.shape)\n",
        "print(\"\\nData types:\\n\", df.dtypes)"
      ]
    },
    {
      "cell_type": "markdown",
      "metadata": {
        "id": "ETlZ5UeuaoMe"
      },
      "source": [
        "**Performing locality wise data exploration.**\n",
        "\n",
        "This helps in understanding which localities of village face more diseases and related to which problem."
      ]
    },
    {
      "cell_type": "code",
      "execution_count": 6,
      "metadata": {
        "colab": {
          "base_uri": "https://localhost:8080/",
          "height": 563
        },
        "id": "QFDe2nDtahWR",
        "outputId": "6c5b57fd-ab1b-4d99-88b0-f1fb6d109436"
      },
      "outputs": [
        {
          "name": "stdout",
          "output_type": "stream",
          "text": [
            "\n",
            "Locality value counts:\n",
            " Locality_5    216\n",
            "Locality_1    208\n",
            "Locality_2    195\n",
            "Locality_3    194\n",
            "Locality_4    187\n",
            "Name: Locality, dtype: int64\n"
          ]
        },
        {
          "data": {
            "image/png": "[encoded data removed]",
            "text/plain": [
              "<Figure size 600x400 with 1 Axes>"
            ]
          },
          "metadata": {},
          "output_type": "display_data"
        }
      ],
      "source": [
        "# Frequency distribution of Locality\n",
        "locality_counts = df['Locality'].value_counts()\n",
        "print(\"\\nLocality value counts:\\n\", locality_counts)\n",
        "\n",
        "# Plotting Locality distribution\n",
        "plt.figure(figsize=(6,4))\n",
        "sns.countplot(y='Locality', data=df, order=locality_counts.index)\n",
        "plt.title('Number of Records per Locality')\n",
        "plt.xlabel('Count')\n",
        "plt.ylabel('Locality')\n",
        "plt.tight_layout()\n",
        "plt.show()"
      ]
    },
    {
      "cell_type": "code",
      "execution_count": 7,
      "metadata": {
        "colab": {
          "base_uri": "https://localhost:8080/",
          "height": 607
        },
        "id": "bNc1R0wVahSy",
        "outputId": "89e3af2c-62cc-4628-d369-0bdbd17ae245"
      },
      "outputs": [
        {
          "data": {
            "image/png": "[encoded data removed]",
            "text/plain": [
              "<Figure size 800x600 with 2 Axes>"
            ]
          },
          "metadata": {},
          "output_type": "display_data"
        }
      ],
      "source": [
        "# Top symptoms by Locality (optional: heatmap)\n",
        "symptoms = ['Fever', 'Cough', 'Cold', 'Chest_Pain', 'Breathlessness',\n",
        "            'Headache', 'Stomach_Pain', 'Vomiting', 'Rash',\n",
        "            'Tooth_Pain', 'Ear_Pain', 'Eye_Irritation', 'Joint_Pain',\n",
        "            'Fatigue', 'Dizziness']\n",
        "\n",
        "# Ensure symptoms are binary or 0/1\n",
        "symptom_data = df.groupby('Locality')[symptoms].sum()\n",
        "\n",
        "# Plot heatmap of symptom distribution across localities\n",
        "plt.figure(figsize=(8, 6))\n",
        "sns.heatmap(symptom_data, annot=True, fmt='d', cmap='YlOrRd')\n",
        "plt.title('Symptom Count per Locality')\n",
        "plt.xlabel('Symptom')\n",
        "plt.ylabel('Locality')\n",
        "plt.tight_layout()\n",
        "plt.show()"
      ]
    },
    {
      "cell_type": "code",
      "execution_count": 8,
      "metadata": {
        "colab": {
          "base_uri": "https://localhost:8080/",
          "height": 824
        },
        "id": "Rvd3h0rFahQY",
        "outputId": "5391e597-644d-42de-d57f-6c020aebeecb"
      },
      "outputs": [
        {
          "data": {
            "text/plain": [
              "<Figure size 800x600 with 0 Axes>"
            ]
          },
          "metadata": {},
          "output_type": "display_data"
        },
        {
          "data": {
            "image/png": "[encoded data removed]",
            "text/plain": [
              "<Figure size 1400x800 with 1 Axes>"
            ]
          },
          "metadata": {},
          "output_type": "display_data"
        }
      ],
      "source": [
        "# 6. Disease Distribution per Locality\n",
        "disease_locality = pd.crosstab(df['Locality'], df['Disease'])\n",
        "\n",
        "plt.figure(figsize=(8,6))\n",
        "disease_locality.plot(kind='bar', colormap='Paired', figsize=(14, 8))\n",
        "plt.title('Disease Distribution by Locality')\n",
        "plt.xlabel('Locality')\n",
        "plt.ylabel('Count')\n",
        "plt.tight_layout()\n",
        "plt.show()"
      ]
    },
    {
      "cell_type": "markdown",
      "metadata": {
        "id": "iCGSQCuAf6X2"
      },
      "source": [
        "**DATA OBSERVATIONS**\n",
        "\n",
        "The dataset is prepared based on my own observations during my survey in village \"Takkellapadu\".\n",
        "\n",
        "1. Divided the village into 5 localities, and almost all localities have similar population.\n",
        "\n",
        "2. And from the observations, it seems like almost of the localities are facing symptoms like Fatigue & Headache which might be associated with health or community level diseases.\n",
        "\n",
        "3. Also, most of the localities are facing general, skin 7 urology related diseases."
      ]
    },
    {
      "cell_type": "markdown",
      "metadata": {
        "id": "5eBZ4eAclduZ"
      },
      "source": [
        "# TRAINING AND TESTING DATASET"
      ]
    },
    {
      "cell_type": "code",
      "execution_count": 9,
      "metadata": {
        "id": "sfrayQ_duOsU"
      },
      "outputs": [],
      "source": [
        "le_gender = LabelEncoder()\n",
        "df['Gender'] = le_gender.fit_transform(df['Gender'])  # Male=1, Female=0\n",
        "\n",
        "le_disease = LabelEncoder()\n",
        "df['Disease'] = le_disease.fit_transform(df['Disease'])  # Optional: or drop"
      ]
    },
    {
      "cell_type": "code",
      "execution_count": 10,
      "metadata": {
        "id": "XMiOSgKZBHQN"
      },
      "outputs": [],
      "source": [
        "X = df.drop(columns=['Name', 'Locality', 'Phone_No', 'Hospital type'])  # Drop irrelevant\n",
        "y = df['Hospital type']\n",
        "\n",
        "X_train, X_test, y_train, y_test = train_test_split(X, y, test_size=0.2, random_state=42)\n",
        "\n",
        "Accuracy_metrics = {}"
      ]
    },
    {
      "cell_type": "markdown",
      "metadata": {
        "id": "pZE9U2qYrkf6"
      },
      "source": [
        "## MODELS TRAINING"
      ]
    },
    {
      "cell_type": "markdown",
      "metadata": {
        "id": "jyzSc4rZmNjs"
      },
      "source": [
        "**Logistic Regression**"
      ]
    },
    {
      "cell_type": "code",
      "execution_count": 11,
      "metadata": {
        "colab": {
          "base_uri": "https://localhost:8080/"
        },
        "id": "2_9czgHlmOIq",
        "outputId": "383abce3-ba88-46d0-d96b-785352a104f0"
      },
      "outputs": [
        {
          "name": "stdout",
          "output_type": "stream",
          "text": [
            "Logistic Regression Accuracy: 0.915\n",
            "Classification Report:\n",
            "                   precision    recall  f1-score   support\n",
            "\n",
            "      Cardiology       1.00      1.00      1.00         9\n",
            "          Dental       1.00      1.00      1.00         8\n",
            "     Dermatology       0.93      1.00      0.97        14\n",
            "             ENT       1.00      0.85      0.92        20\n",
            "             Eye       0.92      1.00      0.96        12\n",
            "         General       0.85      0.77      0.81        30\n",
            "      Gynecology       0.77      0.77      0.77        13\n",
            "       Lung Care       0.85      1.00      0.92        11\n",
            "Multi-speciality       1.00      1.00      1.00        17\n",
            "   Neuro Surgery       0.87      1.00      0.93        27\n",
            "     Orthopedics       1.00      1.00      1.00         9\n",
            "      Pediatrics       0.91      0.83      0.87        12\n",
            "         Urology       0.94      0.89      0.91        18\n",
            "\n",
            "        accuracy                           0.92       200\n",
            "       macro avg       0.93      0.93      0.93       200\n",
            "    weighted avg       0.92      0.92      0.91       200\n",
            "\n"
          ]
        },
        {
          "name": "stderr",
          "output_type": "stream",
          "text": [
            "c:\\Users\\CHUND\\AppData\\Local\\Programs\\Python\\Python310\\lib\\site-packages\\sklearn\\linear_model\\_logistic.py:460: ConvergenceWarning: lbfgs failed to converge (status=1):\n",
            "STOP: TOTAL NO. of ITERATIONS REACHED LIMIT.\n",
            "\n",
            "Increase the number of iterations (max_iter) or scale the data as shown in:\n",
            "    https://scikit-learn.org/stable/modules/preprocessing.html\n",
            "Please also refer to the documentation for alternative solver options:\n",
            "    https://scikit-learn.org/stable/modules/linear_model.html#logistic-regression\n",
            "  n_iter_i = _check_optimize_result(\n"
          ]
        }
      ],
      "source": [
        "log_model = LogisticRegression()\n",
        "log_model.fit(X_train, y_train)\n",
        "log_preds = log_model.predict(X_test)\n",
        "\n",
        "Accuracy_metrics[\"LogisticRegression_accuracy\"] = accuracy_score(y_test, log_preds)\n",
        "\n",
        "print(\"Logistic Regression Accuracy:\", accuracy_score(y_test, log_preds))\n",
        "print(\"Classification Report:\\n\", classification_report(y_test, log_preds))"
      ]
    },
    {
      "cell_type": "markdown",
      "metadata": {
        "id": "ZC8no0j0oEAJ"
      },
      "source": [
        "**KNN Classifier**"
      ]
    },
    {
      "cell_type": "code",
      "execution_count": 12,
      "metadata": {
        "colab": {
          "base_uri": "https://localhost:8080/"
        },
        "id": "k5vSafwAoEfU",
        "outputId": "0cadf216-395a-45c9-960d-6e9cbf3723c4"
      },
      "outputs": [
        {
          "name": "stdout",
          "output_type": "stream",
          "text": [
            "KNN Accuracy: 0.72\n",
            "Classification Report:\n",
            "                   precision    recall  f1-score   support\n",
            "\n",
            "      Cardiology       0.64      0.78      0.70         9\n",
            "          Dental       0.62      1.00      0.76         8\n",
            "     Dermatology       0.48      0.71      0.57        14\n",
            "             ENT       0.65      0.55      0.59        20\n",
            "             Eye       0.67      0.83      0.74        12\n",
            "         General       0.80      0.93      0.86        30\n",
            "      Gynecology       0.83      0.38      0.53        13\n",
            "       Lung Care       0.62      0.45      0.53        11\n",
            "Multi-speciality       0.62      0.47      0.53        17\n",
            "   Neuro Surgery       0.86      0.89      0.87        27\n",
            "     Orthopedics       0.90      1.00      0.95         9\n",
            "      Pediatrics       0.67      0.50      0.57        12\n",
            "         Urology       0.93      0.72      0.81        18\n",
            "\n",
            "        accuracy                           0.72       200\n",
            "       macro avg       0.71      0.71      0.69       200\n",
            "    weighted avg       0.73      0.72      0.71       200\n",
            "\n"
          ]
        }
      ],
      "source": [
        "# Initialize the model\n",
        "knn_model = KNeighborsClassifier(n_neighbors=5)  # You can tune this value\n",
        "\n",
        "# Train the model\n",
        "knn_model.fit(X_train, y_train)\n",
        "\n",
        "# Predict on test data\n",
        "knn_preds = knn_model.predict(X_test)\n",
        "\n",
        "Accuracy_metrics[\"KNN_accuracy\"] = accuracy_score(y_test, knn_preds)\n",
        "\n",
        "# Evaluate the model\n",
        "from sklearn.metrics import accuracy_score, classification_report\n",
        "print(\"KNN Accuracy:\", accuracy_score(y_test, knn_preds))\n",
        "print(\"Classification Report:\\n\", classification_report(y_test, knn_preds))"
      ]
    },
    {
      "cell_type": "markdown",
      "metadata": {
        "id": "JHptaiQ2mJJc"
      },
      "source": [
        "**Random Forest**"
      ]
    },
    {
      "cell_type": "code",
      "execution_count": 13,
      "metadata": {
        "colab": {
          "base_uri": "https://localhost:8080/"
        },
        "id": "Zz0ZrDQUEDLR",
        "outputId": "e405f385-3364-434a-9a25-d2421ccacf7c"
      },
      "outputs": [
        {
          "name": "stdout",
          "output_type": "stream",
          "text": [
            "Random_forest Model Accuracy: 1.0\n",
            "                  precision    recall  f1-score   support\n",
            "\n",
            "      Cardiology       1.00      1.00      1.00         9\n",
            "          Dental       1.00      1.00      1.00         8\n",
            "     Dermatology       1.00      1.00      1.00        14\n",
            "             ENT       1.00      1.00      1.00        20\n",
            "             Eye       1.00      1.00      1.00        12\n",
            "         General       1.00      1.00      1.00        30\n",
            "      Gynecology       1.00      1.00      1.00        13\n",
            "       Lung Care       1.00      1.00      1.00        11\n",
            "Multi-speciality       1.00      1.00      1.00        17\n",
            "   Neuro Surgery       1.00      1.00      1.00        27\n",
            "     Orthopedics       1.00      1.00      1.00         9\n",
            "      Pediatrics       1.00      1.00      1.00        12\n",
            "         Urology       1.00      1.00      1.00        18\n",
            "\n",
            "        accuracy                           1.00       200\n",
            "       macro avg       1.00      1.00      1.00       200\n",
            "    weighted avg       1.00      1.00      1.00       200\n",
            "\n"
          ]
        }
      ],
      "source": [
        "# Training the Random forest Model with this Datatset\n",
        "rf_model = RandomForestClassifier(n_estimators=100, random_state=42)\n",
        "rf_model.fit(X_train, y_train)\n",
        "y_pred_rf = rf_model.predict(X_test)\n",
        "\n",
        "Accuracy_metrics[\"RandomForest_accuracy\"] = accuracy_score(y_test, y_pred_rf)\n",
        "\n",
        "print(\"Random_forest Model Accuracy:\", accuracy_score(y_test, y_pred_rf))\n",
        "print(classification_report(y_test, y_pred_rf))"
      ]
    },
    {
      "cell_type": "markdown",
      "metadata": {
        "id": "38xrvK-1mQrd"
      },
      "source": [
        "**XG_boost**"
      ]
    },
    {
      "cell_type": "code",
      "execution_count": 14,
      "metadata": {
        "colab": {
          "base_uri": "https://localhost:8080/"
        },
        "id": "jLGGmOJPEGDB",
        "outputId": "ea484e34-85f1-4297-ca8a-dc294a561642"
      },
      "outputs": [
        {
          "name": "stdout",
          "output_type": "stream",
          "text": [
            "XGBoost Accuracy: 1.0\n",
            "Classification Report:\n",
            "               precision    recall  f1-score   support\n",
            "\n",
            "           0       1.00      1.00      1.00         9\n",
            "           1       1.00      1.00      1.00         8\n",
            "           2       1.00      1.00      1.00        14\n",
            "           3       1.00      1.00      1.00        20\n",
            "           4       1.00      1.00      1.00        12\n",
            "           5       1.00      1.00      1.00        30\n",
            "           6       1.00      1.00      1.00        13\n",
            "           7       1.00      1.00      1.00        11\n",
            "           8       1.00      1.00      1.00        17\n",
            "           9       1.00      1.00      1.00        27\n",
            "          10       1.00      1.00      1.00         9\n",
            "          11       1.00      1.00      1.00        12\n",
            "          12       1.00      1.00      1.00        18\n",
            "\n",
            "    accuracy                           1.00       200\n",
            "   macro avg       1.00      1.00      1.00       200\n",
            "weighted avg       1.00      1.00      1.00       200\n",
            "\n"
          ]
        }
      ],
      "source": [
        "xgb_model = XGBClassifier(eval_metric='mlogloss')\n",
        "\n",
        "y = le_disease.fit_transform(df['Hospital type'])\n",
        "X_train, X_test, y_train, y_test = train_test_split(X, y, test_size=0.2, random_state=42)\n",
        "\n",
        "xgb_model.fit(X_train, y_train)\n",
        "xgb_preds = xgb_model.predict(X_test)\n",
        "\n",
        "Accuracy_metrics[\"XG_Boost_accuracy\"] = accuracy_score(y_test, xgb_preds)\n",
        "\n",
        "print(\"XGBoost Accuracy:\", accuracy_score(y_test, xgb_preds))\n",
        "print(\"Classification Report:\\n\", classification_report(y_test, xgb_preds))"
      ]
    },
    {
      "cell_type": "markdown",
      "metadata": {
        "id": "7IoTCuzNplJy"
      },
      "source": [
        "**Comparing performances of Models based on Accuracy**"
      ]
    },
    {
      "cell_type": "code",
      "execution_count": 15,
      "metadata": {
        "colab": {
          "base_uri": "https://localhost:8080/"
        },
        "id": "vNuskisipknO",
        "outputId": "940361fe-375d-41d6-9458-2a7a52d01f1f"
      },
      "outputs": [
        {
          "name": "stdout",
          "output_type": "stream",
          "text": [
            "LogisticRegression_accuracy: 91.5%\n",
            "KNN_accuracy: 72.0%\n",
            "RandomForest_accuracy: 100.0%\n",
            "XG_Boost_accuracy: 100.0%\n"
          ]
        }
      ],
      "source": [
        "for model,accuracy in list(Accuracy_metrics.items()):\n",
        "  print(f\"{model}: {accuracy*100}%\")"
      ]
    },
    {
      "cell_type": "markdown",
      "metadata": {
        "id": "oq-uqiwSq7Gq"
      },
      "source": [
        "**Both Random forest and XGBoost are performing very well  with almost 100% accuracy.**"
      ]
    },
    {
      "cell_type": "markdown",
      "metadata": {
        "id": "Hg4_N9tPmXLB"
      },
      "source": [
        "# Saving the Model"
      ]
    },
    {
      "cell_type": "code",
      "execution_count": 16,
      "metadata": {
        "colab": {
          "base_uri": "https://localhost:8080/"
        },
        "id": "qPPKBWsjEWk1",
        "outputId": "9c4d83b1-6227-4974-91e5-146513facb15"
      },
      "outputs": [
        {
          "data": {
            "text/plain": [
              "['hospital_prediction_model.pkl']"
            ]
          },
          "execution_count": 16,
          "metadata": {},
          "output_type": "execute_result"
        }
      ],
      "source": [
        "import joblib\n",
        "joblib.dump(rf_model, 'hospital_prediction_model.pkl')"
      ]
    },
    {
      "cell_type": "code",
      "execution_count": null,
      "metadata": {
        "id": "UvuFoElaEcrd"
      },
      "outputs": [],
      "source": []
    },
    {
      "cell_type": "code",
      "execution_count": null,
      "metadata": {
        "id": "Wr_18N18Us42"
      },
      "outputs": [],
      "source": []
    }
  ],
  "metadata": {
    "colab": {
      "provenance": []
    },
    "kernelspec": {
      "display_name": "Python 3",
      "name": "python3"
    },
    "language_info": {
      "codemirror_mode": {
        "name": "ipython",
        "version": 3
      },
      "file_extension": ".py",
      "mimetype": "text/x-python",
      "name": "python",
      "nbconvert_exporter": "python",
      "pygments_lexer": "ipython3",
      "version": "3.10.8"
    }
  },
  "nbformat": 4,
  "nbformat_minor": 0
}
